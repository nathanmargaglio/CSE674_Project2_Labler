{
 "cells": [
  {
   "cell_type": "code",
   "execution_count": 1,
   "metadata": {},
   "outputs": [],
   "source": [
    "import ipywidgets as widgets\n",
    "from ipyevents import Event\n",
    "from IPython.display import display\n",
    "import requests\n",
    "import pandas as pd\n",
    "\n",
    "STUDENT_ID = \"50109581\""
   ]
  },
  {
   "cell_type": "code",
   "execution_count": 2,
   "metadata": {},
   "outputs": [],
   "source": [
    "def get_dataset():\n",
    "    url = \"http://betelgeuse.cse.buffalo.edu/getstudentimages/50109581\"\n",
    "    r = requests.get(url)\n",
    "    dataset = pd.DataFrame(r.json())\n",
    "    return dataset\n",
    "\n",
    "def get_options():\n",
    "    url = \"http://betelgeuse.cse.buffalo.edu/getdropdownoptions\"\n",
    "    r = requests.get(url)\n",
    "    options = pd.DataFrame(r.json())\n",
    "    return options\n",
    "\n",
    "def get_examples(feature):\n",
    "    url = \"http://betelgeuse.cse.buffalo.edu/getexamples/\"\n",
    "    r = requests.get(url + feature)\n",
    "    examples = pd.DataFrame(r.json())\n",
    "    return examples\n",
    "\n",
    "def get_image_widget(img_src):\n",
    "    url_base = \"http://betelgeuse.cse.buffalo.edu/dataset/\"\n",
    "    r = requests.get(url_base + img_src)\n",
    "    return widgets.Image(\n",
    "        value=r.content\n",
    "    )\n",
    "\n",
    "def create_feature_widget(current_feature):\n",
    "    global column_widgets, feature_label, example_images\n",
    "    feature_name = get_options().columns[current_feature-1]\n",
    "    feature_label.value = feature_name\n",
    "\n",
    "    column_widgets = []\n",
    "    examples = get_examples(feature_name)\n",
    "    for i, column in enumerate(examples.columns):\n",
    "        example_widgets = [widgets.Label(f\"{i+1}: \" + column)]\n",
    "        for index, example in examples.iterrows():\n",
    "            image_widget = get_image_widget(example[column])\n",
    "            example_widgets.append(image_widget)\n",
    "        vbox = widgets.VBox(example_widgets)\n",
    "        vbox.layout.border = '2px solid red'\n",
    "        column_widgets.append(vbox)\n",
    "        \n",
    "    example_images.children = column_widgets"
   ]
  },
  {
   "cell_type": "markdown",
   "metadata": {},
   "source": [
    "# Putting it Together"
   ]
  },
  {
   "cell_type": "code",
   "execution_count": 3,
   "metadata": {},
   "outputs": [],
   "source": [
    "dataset = get_dataset()"
   ]
  },
  {
   "cell_type": "code",
   "execution_count": 19,
   "metadata": {},
   "outputs": [
    {
     "data": {
      "application/vnd.jupyter.widget-view+json": {
       "model_id": "b2d7a6d336ed4aea8b462c4f0d3a1afc",
       "version_major": 2,
       "version_minor": 0
      },
      "text/plain": [
       "VBox(children=(HBox(children=(Image(value=b'\\x89PNG\\r\\n\\x1a\\n\\x00\\x00\\x00\\rIHDR\\x00\\x00\\x00@\\x00\\x00\\x00@\\x08\\…"
      ]
     },
     "metadata": {},
     "output_type": "display_data"
    },
    {
     "data": {
      "application/vnd.jupyter.widget-view+json": {
       "model_id": "f0a342a093fa4ee1a4eb6b5d0836f1d0",
       "version_major": 2,
       "version_minor": 0
      },
      "text/plain": [
       "HTML(value='1/152 examples of 9/15 features')"
      ]
     },
     "metadata": {},
     "output_type": "display_data"
    }
   ],
   "source": [
    "current_feature = 9\n",
    "current_index = 1\n",
    "\n",
    "column_widgets = []\n",
    "feature_label = widgets.Label()\n",
    "feature_label.layout.display = 'flex'\n",
    "feature_label.layout.justify_content = 'center'\n",
    "\n",
    "example_images = widgets.HBox(column_widgets)\n",
    "example_images.layout.display = 'flex'\n",
    "example_images.layout.justify_content = 'center'\n",
    "\n",
    "create_feature_widget(current_feature)\n",
    "\n",
    "instance_image = get_image_widget(dataset[1][current_index-1])\n",
    "instance_box = widgets.HBox([instance_image])\n",
    "instance_box.layout.border = '2px solid green'\n",
    "instance_box.layout.display = 'flex'\n",
    "instance_box.layout.justify_content = 'center'\n",
    "\n",
    "app = widgets.VBox([instance_box, feature_label, example_images])\n",
    "app.layout.border = '2px solid blue'\n",
    "app.layout.display = 'flex'\n",
    "app.layout.justify_content = 'center'\n",
    "\n",
    "#d = Event(source=app, watched_events=['click', 'keydown', 'mouseenter'])\n",
    "d = Event(source=app, watched_events=['keydown'])\n",
    "h = widgets.HTML(f'{current_index}/{len(dataset)} examples of {current_feature}/{len(get_options().columns)} features')\n",
    "\n",
    "def assign(image_id, feature, value):\n",
    "    url = f'http://betelgeuse.cse.buffalo.edu/updatedropdownoptions/{image_id}/{feature}/{value}'\n",
    "    #h.value = url\n",
    "    r = requests.get(url)\n",
    "    \n",
    "def handle_event(event, i=None):\n",
    "    global current_index, current_feature, instance_box, h\n",
    "    #h.value = str(i)\n",
    "    if i is not None:\n",
    "        value = str(i+1)\n",
    "    else:\n",
    "        value = event['key']\n",
    "    \n",
    "    image_id = int(dataset[0][current_index-1])\n",
    "    assign(image_id, current_feature, value)\n",
    "    \n",
    "    current_index += 1\n",
    "    if current_index > len(dataset):\n",
    "        current_index = 1\n",
    "        current_feature += 1\n",
    "        create_feature_widget(current_feature)\n",
    "        \n",
    "    instance_box.children = (get_image_widget(dataset[1][current_index-1]),)\n",
    "    h.value = f'{current_index}/{len(dataset)} examples of {current_feature}/{len(get_options().columns)} features'\n",
    "\n",
    "def handle_touch_event(i):\n",
    "    return lambda e: handle_event(e, i)\n",
    "\n",
    "d.on_dom_event(handle_event)\n",
    "\n",
    "for i, cw in enumerate(column_widgets):\n",
    "    #h.value += f'{i},'\n",
    "    event = Event(source=cw, watched_events=['click'])\n",
    "    event.on_dom_event(handle_touch_event(i))\n",
    "                            \n",
    "display(app, h)"
   ]
  }
 ],
 "metadata": {
  "kernelspec": {
   "display_name": "Python 3",
   "language": "python",
   "name": "python3"
  },
  "language_info": {
   "codemirror_mode": {
    "name": "ipython",
    "version": 3
   },
   "file_extension": ".py",
   "mimetype": "text/x-python",
   "name": "python",
   "nbconvert_exporter": "python",
   "pygments_lexer": "ipython3",
   "version": "3.6.5"
  }
 },
 "nbformat": 4,
 "nbformat_minor": 2
}
